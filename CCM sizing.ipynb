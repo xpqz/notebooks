{
 "cells": [
  {
   "cell_type": "code",
   "execution_count": 37,
   "metadata": {
    "collapsed": false
   },
   "outputs": [],
   "source": [
    "import math\n",
    "def ccm(enterprise, professional, personal, starter):\n",
    "    # Baseline assumption: enterprise == 12 nodes\n",
    "    total_lookups = enterprise * 20000.0 + professional * 3000.0 + personal * 200.0 + starter * 20.0\n",
    "    nodes = total_lookups / 20000.0 * 12.0\n",
    "    if nodes < 3.0:\n",
    "        nodes = 3.0\n",
    "    elif nodes < 6.0:\n",
    "        nodes = 6.0\n",
    "    elif nodes < 9.0:\n",
    "        nodes = 9.0\n",
    "    elif nodes < 12.0:\n",
    "        nodes = 12.0\n",
    "    else:\n",
    "        nodes = math.ceil(nodes)\n",
    "    \n",
    "    return nodes"
   ]
  },
  {
   "cell_type": "code",
   "execution_count": 38,
   "metadata": {
    "collapsed": false
   },
   "outputs": [
    {
     "name": "stdout",
     "output_type": "stream",
     "text": [
      "26200.0 15.72\n"
     ]
    }
   ],
   "source": [
    "nodes = ccm(1, 2, 1, 0)"
   ]
  },
  {
   "cell_type": "code",
   "execution_count": 39,
   "metadata": {
    "collapsed": false
   },
   "outputs": [
    {
     "name": "stdout",
     "output_type": "stream",
     "text": [
      "16\n"
     ]
    }
   ],
   "source": [
    "print(nodes)"
   ]
  },
  {
   "cell_type": "code",
   "execution_count": null,
   "metadata": {
    "collapsed": true
   },
   "outputs": [],
   "source": []
  }
 ],
 "metadata": {
  "kernelspec": {
   "display_name": "Python 3",
   "language": "python",
   "name": "python3"
  },
  "language_info": {
   "codemirror_mode": {
    "name": "ipython",
    "version": 3
   },
   "file_extension": ".py",
   "mimetype": "text/x-python",
   "name": "python",
   "nbconvert_exporter": "python",
   "pygments_lexer": "ipython3",
   "version": "3.5.1"
  }
 },
 "nbformat": 4,
 "nbformat_minor": 0
}
